{
 "cells": [
  {
   "cell_type": "markdown",
   "metadata": {
    "colab_type": "text",
    "id": "UvAUT0KZFFgy"
   },
   "source": [
    "# Unsupervised Learning Capstone - Sarcasm Detection\n",
    "This is the Unsupervised Learning Capstone for Thinful Data Science program. For this capsone, I will be using the article headline dataset from Kaggle. The link of the dataset is below. \n",
    "https://www.kaggle.com/rmisra/news-headlines-dataset-for-sarcasm-detection\n",
    "\n",
    "\n",
    "---\n",
    "\n",
    "The goal for this capsone is identify the article is sarcastic or not using the provided headline of the article. In this dataset, article url link will be provided as well. We will use three approaches here for this project. The first approach will be using clustering as classifier, and evaluate its accuracy. The second approach will be using clustering as feacture reduction, and then use classification algorithms like logistic regression, random forst, and etc. for classification. The third approach will be using the simple nerual network (MLP Classifier) from SK Learn libray. "
   ]
  },
  {
   "cell_type": "code",
   "execution_count": 1,
   "metadata": {
    "colab": {},
    "colab_type": "code",
    "id": "Toih6WNx5MEk"
   },
   "outputs": [],
   "source": [
    "%matplotlib inline\n",
    "import numpy as np\n",
    "import pandas as pd\n",
    "import scipy\n",
    "import matplotlib.pyplot as plt\n",
    "import seaborn as sns\n",
    "import re\n",
    "from sklearn import metrics\n",
    "\n",
    "import time\n",
    "\n",
    "sns.set_style('white')\n",
    "import warnings\n",
    "warnings.filterwarnings(\"ignore\")"
   ]
  },
  {
   "cell_type": "code",
   "execution_count": 2,
   "metadata": {
    "colab": {},
    "colab_type": "code",
    "id": "sRAV7V_j56dn"
   },
   "outputs": [],
   "source": [
    "from IPython.display import display\n",
    "pd.options.display.max_columns = None\n",
    "pd.set_option('display.max_colwidth', -1)"
   ]
  },
  {
   "cell_type": "code",
   "execution_count": 3,
   "metadata": {
    "colab": {
     "base_uri": "https://localhost:8080/",
     "height": 34
    },
    "colab_type": "code",
    "id": "IGWGH22M58dO",
    "outputId": "51f527fd-ccf5-4043-9808-d770736442a7"
   },
   "outputs": [],
   "source": [
    "#from google.colab import drive\n",
    "#drive.mount('/content/gdrive')"
   ]
  },
  {
   "cell_type": "code",
   "execution_count": 4,
   "metadata": {
    "colab": {},
    "colab_type": "code",
    "id": "MEoUygQ_5_au"
   },
   "outputs": [],
   "source": [
    "raw_df = pd.read_json(\n",
    "    'Sarcasm_Headlines_Dataset.json',\n",
    "    lines=True)"
   ]
  },
  {
   "cell_type": "code",
   "execution_count": 5,
   "metadata": {
    "colab": {
     "base_uri": "https://localhost:8080/",
     "height": 195
    },
    "colab_type": "code",
    "id": "52068OYc6y44",
    "outputId": "0e4a9741-1b0d-474b-f5cc-33d13919a643"
   },
   "outputs": [
    {
     "data": {
      "text/html": [
       "<div>\n",
       "<style scoped>\n",
       "    .dataframe tbody tr th:only-of-type {\n",
       "        vertical-align: middle;\n",
       "    }\n",
       "\n",
       "    .dataframe tbody tr th {\n",
       "        vertical-align: top;\n",
       "    }\n",
       "\n",
       "    .dataframe thead th {\n",
       "        text-align: right;\n",
       "    }\n",
       "</style>\n",
       "<table border=\"1\" class=\"dataframe\">\n",
       "  <thead>\n",
       "    <tr style=\"text-align: right;\">\n",
       "      <th></th>\n",
       "      <th>article_link</th>\n",
       "      <th>headline</th>\n",
       "      <th>is_sarcastic</th>\n",
       "    </tr>\n",
       "  </thead>\n",
       "  <tbody>\n",
       "    <tr>\n",
       "      <th>0</th>\n",
       "      <td>https://www.huffingtonpost.com/entry/versace-black-code_us_5861fbefe4b0de3a08f600d5</td>\n",
       "      <td>former versace store clerk sues over secret 'black code' for minority shoppers</td>\n",
       "      <td>0</td>\n",
       "    </tr>\n",
       "    <tr>\n",
       "      <th>1</th>\n",
       "      <td>https://www.huffingtonpost.com/entry/roseanne-revival-review_us_5ab3a497e4b054d118e04365</td>\n",
       "      <td>the 'roseanne' revival catches up to our thorny political mood, for better and worse</td>\n",
       "      <td>0</td>\n",
       "    </tr>\n",
       "    <tr>\n",
       "      <th>2</th>\n",
       "      <td>https://local.theonion.com/mom-starting-to-fear-son-s-web-series-closest-thing-she-1819576697</td>\n",
       "      <td>mom starting to fear son's web series closest thing she will have to grandchild</td>\n",
       "      <td>1</td>\n",
       "    </tr>\n",
       "    <tr>\n",
       "      <th>3</th>\n",
       "      <td>https://politics.theonion.com/boehner-just-wants-wife-to-listen-not-come-up-with-alt-1819574302</td>\n",
       "      <td>boehner just wants wife to listen, not come up with alternative debt-reduction ideas</td>\n",
       "      <td>1</td>\n",
       "    </tr>\n",
       "    <tr>\n",
       "      <th>4</th>\n",
       "      <td>https://www.huffingtonpost.com/entry/jk-rowling-wishes-snape-happy-birthday_us_569117c4e4b0cad15e64fdcb</td>\n",
       "      <td>j.k. rowling wishes snape happy birthday in the most magical way</td>\n",
       "      <td>0</td>\n",
       "    </tr>\n",
       "  </tbody>\n",
       "</table>\n",
       "</div>"
      ],
      "text/plain": [
       "                                                                                              article_link  \\\n",
       "0  https://www.huffingtonpost.com/entry/versace-black-code_us_5861fbefe4b0de3a08f600d5                       \n",
       "1  https://www.huffingtonpost.com/entry/roseanne-revival-review_us_5ab3a497e4b054d118e04365                  \n",
       "2  https://local.theonion.com/mom-starting-to-fear-son-s-web-series-closest-thing-she-1819576697             \n",
       "3  https://politics.theonion.com/boehner-just-wants-wife-to-listen-not-come-up-with-alt-1819574302           \n",
       "4  https://www.huffingtonpost.com/entry/jk-rowling-wishes-snape-happy-birthday_us_569117c4e4b0cad15e64fdcb   \n",
       "\n",
       "                                                                               headline  \\\n",
       "0  former versace store clerk sues over secret 'black code' for minority shoppers         \n",
       "1  the 'roseanne' revival catches up to our thorny political mood, for better and worse   \n",
       "2  mom starting to fear son's web series closest thing she will have to grandchild        \n",
       "3  boehner just wants wife to listen, not come up with alternative debt-reduction ideas   \n",
       "4  j.k. rowling wishes snape happy birthday in the most magical way                       \n",
       "\n",
       "   is_sarcastic  \n",
       "0  0             \n",
       "1  0             \n",
       "2  1             \n",
       "3  1             \n",
       "4  0             "
      ]
     },
     "execution_count": 5,
     "metadata": {},
     "output_type": "execute_result"
    }
   ],
   "source": [
    "raw_df.head()"
   ]
  },
  {
   "cell_type": "code",
   "execution_count": 6,
   "metadata": {
    "colab": {
     "base_uri": "https://localhost:8080/",
     "height": 34
    },
    "colab_type": "code",
    "id": "UZOuLwLFsyTr",
    "outputId": "e6dcf577-d127-4df5-b8b6-a8585bd122c0"
   },
   "outputs": [
    {
     "data": {
      "text/plain": [
       "(26709, 3)"
      ]
     },
     "execution_count": 6,
     "metadata": {},
     "output_type": "execute_result"
    }
   ],
   "source": [
    "raw_df.shape"
   ]
  },
  {
   "cell_type": "code",
   "execution_count": 7,
   "metadata": {
    "colab": {
     "base_uri": "https://localhost:8080/",
     "height": 168
    },
    "colab_type": "code",
    "id": "nQP2Ssfq7ptf",
    "outputId": "cf44fa86-3cf7-4f6a-d33e-4b29738f8aae"
   },
   "outputs": [
    {
     "name": "stdout",
     "output_type": "stream",
     "text": [
      "Requirement already satisfied: tldextract in c:\\dev_software\\anaconda3\\lib\\site-packages (2.2.1)\n",
      "Requirement already satisfied: setuptools in c:\\dev_software\\anaconda3\\lib\\site-packages (from tldextract) (40.2.0)\n",
      "Requirement already satisfied: idna in c:\\dev_software\\anaconda3\\lib\\site-packages (from tldextract) (2.7)\n",
      "Requirement already satisfied: requests-file>=1.4 in c:\\dev_software\\anaconda3\\lib\\site-packages (from tldextract) (1.4.3)\n",
      "Requirement already satisfied: requests>=2.1.0 in c:\\dev_software\\anaconda3\\lib\\site-packages (from tldextract) (2.19.1)\n",
      "Requirement already satisfied: six in c:\\dev_software\\anaconda3\\lib\\site-packages (from requests-file>=1.4->tldextract) (1.11.0)\n",
      "Requirement already satisfied: chardet<3.1.0,>=3.0.2 in c:\\dev_software\\anaconda3\\lib\\site-packages (from requests>=2.1.0->tldextract) (3.0.4)\n",
      "Requirement already satisfied: certifi>=2017.4.17 in c:\\dev_software\\anaconda3\\lib\\site-packages (from requests>=2.1.0->tldextract) (2019.3.9)\n",
      "Requirement already satisfied: urllib3<1.24,>=1.21.1 in c:\\dev_software\\anaconda3\\lib\\site-packages (from requests>=2.1.0->tldextract) (1.23)\n"
     ]
    },
    {
     "name": "stderr",
     "output_type": "stream",
     "text": [
      "You are using pip version 18.1, however version 19.1.1 is available.\n",
      "You should consider upgrading via the 'python -m pip install --upgrade pip' command.\n"
     ]
    }
   ],
   "source": [
    "!pip install tldextract\n",
    "import tldextract"
   ]
  },
  {
   "cell_type": "code",
   "execution_count": 8,
   "metadata": {
    "colab": {},
    "colab_type": "code",
    "id": "5AesmdO28EYt"
   },
   "outputs": [],
   "source": [
    "# Use tldextract to extract the domain name. \n",
    "df = pd.DataFrame()\n",
    "df['source'] = raw_df['article_link'].apply(lambda x: tldextract.extract(x)[1])"
   ]
  },
  {
   "cell_type": "code",
   "execution_count": 9,
   "metadata": {
    "colab": {
     "base_uri": "https://localhost:8080/",
     "height": 195
    },
    "colab_type": "code",
    "id": "9o8ElUYt9Cyj",
    "outputId": "bb8d56d5-ca4b-439a-94ea-2313e5a36d69"
   },
   "outputs": [
    {
     "data": {
      "text/html": [
       "<div>\n",
       "<style scoped>\n",
       "    .dataframe tbody tr th:only-of-type {\n",
       "        vertical-align: middle;\n",
       "    }\n",
       "\n",
       "    .dataframe tbody tr th {\n",
       "        vertical-align: top;\n",
       "    }\n",
       "\n",
       "    .dataframe thead th {\n",
       "        text-align: right;\n",
       "    }\n",
       "</style>\n",
       "<table border=\"1\" class=\"dataframe\">\n",
       "  <thead>\n",
       "    <tr style=\"text-align: right;\">\n",
       "      <th></th>\n",
       "      <th>source</th>\n",
       "    </tr>\n",
       "  </thead>\n",
       "  <tbody>\n",
       "    <tr>\n",
       "      <th>0</th>\n",
       "      <td>huffingtonpost</td>\n",
       "    </tr>\n",
       "    <tr>\n",
       "      <th>1</th>\n",
       "      <td>huffingtonpost</td>\n",
       "    </tr>\n",
       "    <tr>\n",
       "      <th>2</th>\n",
       "      <td>theonion</td>\n",
       "    </tr>\n",
       "    <tr>\n",
       "      <th>3</th>\n",
       "      <td>theonion</td>\n",
       "    </tr>\n",
       "    <tr>\n",
       "      <th>4</th>\n",
       "      <td>huffingtonpost</td>\n",
       "    </tr>\n",
       "  </tbody>\n",
       "</table>\n",
       "</div>"
      ],
      "text/plain": [
       "           source\n",
       "0  huffingtonpost\n",
       "1  huffingtonpost\n",
       "2  theonion      \n",
       "3  theonion      \n",
       "4  huffingtonpost"
      ]
     },
     "execution_count": 9,
     "metadata": {},
     "output_type": "execute_result"
    }
   ],
   "source": [
    "df.head()"
   ]
  },
  {
   "cell_type": "markdown",
   "metadata": {
    "colab_type": "text",
    "id": "6zSZ9J9nWmTN"
   },
   "source": [
    "## Data Cleaning"
   ]
  },
  {
   "cell_type": "code",
   "execution_count": 10,
   "metadata": {
    "colab": {},
    "colab_type": "code",
    "id": "qrYv80uVpfbm"
   },
   "outputs": [],
   "source": [
    "# Remove all special characters, but keep space. \n",
    "df['headline'] = raw_df['headline'].replace('[^a-zA-Z0-9]+',' ',regex=True)"
   ]
  },
  {
   "cell_type": "code",
   "execution_count": 11,
   "metadata": {
    "colab": {},
    "colab_type": "code",
    "id": "K6n_Vf18rLB_"
   },
   "outputs": [],
   "source": [
    "# Lemmatization\n",
    "import spacy\n",
    "nlp = spacy.load('en')\n",
    "\n",
    "df['headline_cleaned'] = df['headline'].apply(\n",
    "    lambda x: [w.lemma_ for w in nlp(x)])"
   ]
  },
  {
   "cell_type": "code",
   "execution_count": 12,
   "metadata": {
    "colab": {
     "base_uri": "https://localhost:8080/",
     "height": 84
    },
    "colab_type": "code",
    "id": "GrMJ_wH0Wo1P",
    "outputId": "515a1b6d-dd27-4cd2-9903-3e5dddf3c629"
   },
   "outputs": [
    {
     "name": "stdout",
     "output_type": "stream",
     "text": [
      "[nltk_data] Downloading package stopwords to C:\\Users\\Jonathan\n",
      "[nltk_data]     Zhao\\AppData\\Roaming\\nltk_data...\n",
      "[nltk_data]   Unzipping corpora\\stopwords.zip.\n",
      "[nltk_data] Downloading package punkt to C:\\Users\\Jonathan\n",
      "[nltk_data]     Zhao\\AppData\\Roaming\\nltk_data...\n",
      "[nltk_data]   Unzipping tokenizers\\punkt.zip.\n"
     ]
    }
   ],
   "source": [
    "# Remove stop words\n",
    "import nltk\n",
    "nltk.download('stopwords')\n",
    "nltk.download('punkt')\n",
    "from nltk.corpus import stopwords\n",
    "from nltk.tokenize import word_tokenize\n",
    "\n",
    "stop = stopwords.words('english')\n",
    "\n",
    "df['headline_cleaned'] = df['headline_cleaned'].apply(\n",
    "    lambda x: [item for item in x if item not in stop])"
   ]
  },
  {
   "cell_type": "code",
   "execution_count": 13,
   "metadata": {
    "colab": {
     "base_uri": "https://localhost:8080/",
     "height": 195
    },
    "colab_type": "code",
    "id": "O3y91_CHXbWt",
    "outputId": "f441f82b-9d81-4794-b5bf-a43e86c5e8ce"
   },
   "outputs": [
    {
     "data": {
      "text/html": [
       "<div>\n",
       "<style scoped>\n",
       "    .dataframe tbody tr th:only-of-type {\n",
       "        vertical-align: middle;\n",
       "    }\n",
       "\n",
       "    .dataframe tbody tr th {\n",
       "        vertical-align: top;\n",
       "    }\n",
       "\n",
       "    .dataframe thead th {\n",
       "        text-align: right;\n",
       "    }\n",
       "</style>\n",
       "<table border=\"1\" class=\"dataframe\">\n",
       "  <thead>\n",
       "    <tr style=\"text-align: right;\">\n",
       "      <th></th>\n",
       "      <th>source</th>\n",
       "      <th>headline</th>\n",
       "      <th>headline_cleaned</th>\n",
       "    </tr>\n",
       "  </thead>\n",
       "  <tbody>\n",
       "    <tr>\n",
       "      <th>0</th>\n",
       "      <td>huffingtonpost</td>\n",
       "      <td>former versace store clerk sues over secret black code for minority shoppers</td>\n",
       "      <td>[former, versace, store, clerk, sue, secret, black, code, minority, shopper]</td>\n",
       "    </tr>\n",
       "    <tr>\n",
       "      <th>1</th>\n",
       "      <td>huffingtonpost</td>\n",
       "      <td>the roseanne revival catches up to our thorny political mood for better and worse</td>\n",
       "      <td>[roseanne, revival, catch, -PRON-, thorny, political, mood, well, bad]</td>\n",
       "    </tr>\n",
       "    <tr>\n",
       "      <th>2</th>\n",
       "      <td>theonion</td>\n",
       "      <td>mom starting to fear son s web series closest thing she will have to grandchild</td>\n",
       "      <td>[mom, start, fear, son, web, series, close, thing, -PRON-, grandchild]</td>\n",
       "    </tr>\n",
       "    <tr>\n",
       "      <th>3</th>\n",
       "      <td>theonion</td>\n",
       "      <td>boehner just wants wife to listen not come up with alternative debt reduction ideas</td>\n",
       "      <td>[boehner, want, wife, listen, come, alternative, debt, reduction, idea]</td>\n",
       "    </tr>\n",
       "    <tr>\n",
       "      <th>4</th>\n",
       "      <td>huffingtonpost</td>\n",
       "      <td>j k rowling wishes snape happy birthday in the most magical way</td>\n",
       "      <td>[j, k, rowling, wish, snape, happy, birthday, magical, way]</td>\n",
       "    </tr>\n",
       "  </tbody>\n",
       "</table>\n",
       "</div>"
      ],
      "text/plain": [
       "           source  \\\n",
       "0  huffingtonpost   \n",
       "1  huffingtonpost   \n",
       "2  theonion         \n",
       "3  theonion         \n",
       "4  huffingtonpost   \n",
       "\n",
       "                                                                              headline  \\\n",
       "0  former versace store clerk sues over secret black code for minority shoppers          \n",
       "1  the roseanne revival catches up to our thorny political mood for better and worse     \n",
       "2  mom starting to fear son s web series closest thing she will have to grandchild       \n",
       "3  boehner just wants wife to listen not come up with alternative debt reduction ideas   \n",
       "4  j k rowling wishes snape happy birthday in the most magical way                       \n",
       "\n",
       "                                                               headline_cleaned  \n",
       "0  [former, versace, store, clerk, sue, secret, black, code, minority, shopper]  \n",
       "1  [roseanne, revival, catch, -PRON-, thorny, political, mood, well, bad]        \n",
       "2  [mom, start, fear, son, web, series, close, thing, -PRON-, grandchild]        \n",
       "3  [boehner, want, wife, listen, come, alternative, debt, reduction, idea]       \n",
       "4  [j, k, rowling, wish, snape, happy, birthday, magical, way]                   "
      ]
     },
     "execution_count": 13,
     "metadata": {},
     "output_type": "execute_result"
    }
   ],
   "source": [
    "df.head()"
   ]
  },
  {
   "cell_type": "markdown",
   "metadata": {
    "colab_type": "text",
    "id": "Pcg3U27_lVNa"
   },
   "source": [
    "## Simple EDA"
   ]
  },
  {
   "cell_type": "code",
   "execution_count": 14,
   "metadata": {
    "colab": {
     "base_uri": "https://localhost:8080/",
     "height": 195
    },
    "colab_type": "code",
    "id": "08fA8JWzlU7j",
    "outputId": "1109e7cc-a0c6-4ce6-bd4d-04c1f53f8713"
   },
   "outputs": [
    {
     "data": {
      "text/html": [
       "<div>\n",
       "<style scoped>\n",
       "    .dataframe tbody tr th:only-of-type {\n",
       "        vertical-align: middle;\n",
       "    }\n",
       "\n",
       "    .dataframe tbody tr th {\n",
       "        vertical-align: top;\n",
       "    }\n",
       "\n",
       "    .dataframe thead th {\n",
       "        text-align: right;\n",
       "    }\n",
       "</style>\n",
       "<table border=\"1\" class=\"dataframe\">\n",
       "  <thead>\n",
       "    <tr style=\"text-align: right;\">\n",
       "      <th></th>\n",
       "      <th>source</th>\n",
       "      <th>headline</th>\n",
       "      <th>headline_cleaned</th>\n",
       "      <th>is_sarcastic</th>\n",
       "    </tr>\n",
       "  </thead>\n",
       "  <tbody>\n",
       "    <tr>\n",
       "      <th>0</th>\n",
       "      <td>huffingtonpost</td>\n",
       "      <td>former versace store clerk sues over secret black code for minority shoppers</td>\n",
       "      <td>[former, versace, store, clerk, sue, secret, black, code, minority, shopper]</td>\n",
       "      <td>0</td>\n",
       "    </tr>\n",
       "    <tr>\n",
       "      <th>1</th>\n",
       "      <td>huffingtonpost</td>\n",
       "      <td>the roseanne revival catches up to our thorny political mood for better and worse</td>\n",
       "      <td>[roseanne, revival, catch, -PRON-, thorny, political, mood, well, bad]</td>\n",
       "      <td>0</td>\n",
       "    </tr>\n",
       "    <tr>\n",
       "      <th>2</th>\n",
       "      <td>theonion</td>\n",
       "      <td>mom starting to fear son s web series closest thing she will have to grandchild</td>\n",
       "      <td>[mom, start, fear, son, web, series, close, thing, -PRON-, grandchild]</td>\n",
       "      <td>1</td>\n",
       "    </tr>\n",
       "    <tr>\n",
       "      <th>3</th>\n",
       "      <td>theonion</td>\n",
       "      <td>boehner just wants wife to listen not come up with alternative debt reduction ideas</td>\n",
       "      <td>[boehner, want, wife, listen, come, alternative, debt, reduction, idea]</td>\n",
       "      <td>1</td>\n",
       "    </tr>\n",
       "    <tr>\n",
       "      <th>4</th>\n",
       "      <td>huffingtonpost</td>\n",
       "      <td>j k rowling wishes snape happy birthday in the most magical way</td>\n",
       "      <td>[j, k, rowling, wish, snape, happy, birthday, magical, way]</td>\n",
       "      <td>0</td>\n",
       "    </tr>\n",
       "  </tbody>\n",
       "</table>\n",
       "</div>"
      ],
      "text/plain": [
       "           source  \\\n",
       "0  huffingtonpost   \n",
       "1  huffingtonpost   \n",
       "2  theonion         \n",
       "3  theonion         \n",
       "4  huffingtonpost   \n",
       "\n",
       "                                                                              headline  \\\n",
       "0  former versace store clerk sues over secret black code for minority shoppers          \n",
       "1  the roseanne revival catches up to our thorny political mood for better and worse     \n",
       "2  mom starting to fear son s web series closest thing she will have to grandchild       \n",
       "3  boehner just wants wife to listen not come up with alternative debt reduction ideas   \n",
       "4  j k rowling wishes snape happy birthday in the most magical way                       \n",
       "\n",
       "                                                               headline_cleaned  \\\n",
       "0  [former, versace, store, clerk, sue, secret, black, code, minority, shopper]   \n",
       "1  [roseanne, revival, catch, -PRON-, thorny, political, mood, well, bad]         \n",
       "2  [mom, start, fear, son, web, series, close, thing, -PRON-, grandchild]         \n",
       "3  [boehner, want, wife, listen, come, alternative, debt, reduction, idea]        \n",
       "4  [j, k, rowling, wish, snape, happy, birthday, magical, way]                    \n",
       "\n",
       "   is_sarcastic  \n",
       "0  0             \n",
       "1  0             \n",
       "2  1             \n",
       "3  1             \n",
       "4  0             "
      ]
     },
     "execution_count": 14,
     "metadata": {},
     "output_type": "execute_result"
    }
   ],
   "source": [
    "df['is_sarcastic'] = raw_df['is_sarcastic']\n",
    "df.head()"
   ]
  },
  {
   "cell_type": "code",
   "execution_count": 15,
   "metadata": {
    "colab": {
     "base_uri": "https://localhost:8080/",
     "height": 546
    },
    "colab_type": "code",
    "id": "PhqBUpg-m9h7",
    "outputId": "612ab1d7-1872-491e-f29c-557e7cec1868"
   },
   "outputs": [
    {
     "name": "stdout",
     "output_type": "stream",
     "text": [
      "Total Number of Article is NOT Sarcastic: 14985\n",
      "Total Number of Article is Sarcastic: 11724\n"
     ]
    },
    {
     "data": {
      "image/png": "[encoded data removed]",
      "text/plain": [
       "<Figure size 1080x576 with 1 Axes>"
      ]
     },
     "metadata": {
      "needs_background": "light"
     },
     "output_type": "display_data"
    }
   ],
   "source": [
    "plt.figure(figsize=(15,8))\n",
    "ax = sns.countplot(x=\"is_sarcastic\", data=df)\n",
    "ax.set_title('Total Count of Sarcasm Articles')\n",
    "ax.set_xlabel('Total Counts')\n",
    "\n",
    "print('Total Number of Article is NOT Sarcastic: ' + \n",
    "      str(df[df['is_sarcastic'] == 0].shape[0]))\n",
    "print('Total Number of Article is Sarcastic: ' + \n",
    "      str(df[df['is_sarcastic'] == 1].shape[0]))"
   ]
  },
  {
   "cell_type": "markdown",
   "metadata": {
    "colab_type": "text",
    "id": "sGsucSzRmgIm"
   },
   "source": [
    "As we can see from above plot, the total number of sarcastic articles is smaller than non-sarcarstic articles. However, there are not much of difference here. Since these are articles and its headlines, and I do not create fake articles and headlines to make both classes balance. Therefore, I will not balance the classes here. "
   ]
  },
  {
   "cell_type": "code",
   "execution_count": 16,
   "metadata": {
    "colab": {
     "base_uri": "https://localhost:8080/",
     "height": 34
    },
    "colab_type": "code",
    "id": "LjGwLG1krlSZ",
    "outputId": "62313f9b-75e6-4bcd-d67b-cc0fd4c9658a"
   },
   "outputs": [
    {
     "data": {
      "text/plain": [
       "array(['huffingtonpost', 'theonion', 'comhttp', 'comhttps'], dtype=object)"
      ]
     },
     "execution_count": 16,
     "metadata": {},
     "output_type": "execute_result"
    }
   ],
   "source": [
    "# Check how many unique sources we have. \n",
    "df['source'].unique()"
   ]
  },
  {
   "cell_type": "markdown",
   "metadata": {
    "colab_type": "text",
    "id": "AZM7jc68nO_M"
   },
   "source": [
    "comhttp and comhttps does not seem like a valid domain name for a website. I will check on these sources and find out what's wrong. "
   ]
  },
  {
   "cell_type": "code",
   "execution_count": 17,
   "metadata": {
    "colab": {
     "base_uri": "https://localhost:8080/",
     "height": 262
    },
    "colab_type": "code",
    "id": "OH6BvxpTrow2",
    "outputId": "fbc67e51-b4e4-4e5d-9c53-744e83cd492a"
   },
   "outputs": [
    {
     "data": {
      "text/html": [
       "<div>\n",
       "<style scoped>\n",
       "    .dataframe tbody tr th:only-of-type {\n",
       "        vertical-align: middle;\n",
       "    }\n",
       "\n",
       "    .dataframe tbody tr th {\n",
       "        vertical-align: top;\n",
       "    }\n",
       "\n",
       "    .dataframe thead th {\n",
       "        text-align: right;\n",
       "    }\n",
       "</style>\n",
       "<table border=\"1\" class=\"dataframe\">\n",
       "  <thead>\n",
       "    <tr style=\"text-align: right;\">\n",
       "      <th></th>\n",
       "      <th>article_link</th>\n",
       "      <th>headline</th>\n",
       "      <th>is_sarcastic</th>\n",
       "    </tr>\n",
       "  </thead>\n",
       "  <tbody>\n",
       "    <tr>\n",
       "      <th>159</th>\n",
       "      <td>https://www.huffingtonpost.comhttps://www.washingtonpost.com/lifestyle/megyn-kelly-preps-for-her-trump-interview-a-chance-to-go-to-a-different-place/2016/05/16/15e46206-187a-11e6-9e16-2e5a123aac62_story.html?hpid=hp_hp-top-table-main_kelly-2pm:homepage/story</td>\n",
       "      <td>megyn kelly on donald trump: 'i have done my level best to not make this story about me'</td>\n",
       "      <td>0</td>\n",
       "    </tr>\n",
       "    <tr>\n",
       "      <th>175</th>\n",
       "      <td>https://www.huffingtonpost.comhttps://www.washingtonpost.com/opinions/an-assault-on-our-values/2016/06/13/a0eadc98-31ae-11e6-8758-d58e76e11b12_story.html</td>\n",
       "      <td>donald trump's assault on our values</td>\n",
       "      <td>0</td>\n",
       "    </tr>\n",
       "    <tr>\n",
       "      <th>436</th>\n",
       "      <td>https://www.huffingtonpost.comhttps://www.washingtonpost.com/world/national-security/military-prosecutor-senate-report-on-cia-interrogation-program-is-accurate/2016/02/10/d75d51a8-cf47-11e5-88cd-753e80cd29ad_story.html</td>\n",
       "      <td>military prosecutor: senate report on cia interrogation program is accurate</td>\n",
       "      <td>0</td>\n",
       "    </tr>\n",
       "    <tr>\n",
       "      <th>677</th>\n",
       "      <td>https://www.huffingtonpost.comhttps://www.washingtonpost.com/world/jailed-washington-post-correspondent-has-christmas-meal-with-family/2015/12/25/dacdb3ac-ab2d-11e5-bff5-905b92f5f94b_story.html?postshare=2821451070250310&amp;tid=ss_tw</td>\n",
       "      <td>washington post journalist jailed in iran has christmas meal with family</td>\n",
       "      <td>0</td>\n",
       "    </tr>\n",
       "    <tr>\n",
       "      <th>950</th>\n",
       "      <td>https://www.huffingtonpost.comhttps://www.washingtonpost.com/politics/fiery-republican-race-heads-to-sc-known-for-dirty-tricks-and-brawls/2016/02/10/a99b161e-d024-11e5-b2bc-988409ee911b_story.html?hpid=hp_hp-top-table-main_southcarolina-830pm:homepage/story</td>\n",
       "      <td>gop race heads to south carolina, known for dirty tricks and brawls</td>\n",
       "      <td>0</td>\n",
       "    </tr>\n",
       "  </tbody>\n",
       "</table>\n",
       "</div>"
      ],
      "text/plain": [
       "                                                                                                                                                                                                                                                           article_link  \\\n",
       "159  https://www.huffingtonpost.comhttps://www.washingtonpost.com/lifestyle/megyn-kelly-preps-for-her-trump-interview-a-chance-to-go-to-a-different-place/2016/05/16/15e46206-187a-11e6-9e16-2e5a123aac62_story.html?hpid=hp_hp-top-table-main_kelly-2pm:homepage/story   \n",
       "175  https://www.huffingtonpost.comhttps://www.washingtonpost.com/opinions/an-assault-on-our-values/2016/06/13/a0eadc98-31ae-11e6-8758-d58e76e11b12_story.html                                                                                                            \n",
       "436  https://www.huffingtonpost.comhttps://www.washingtonpost.com/world/national-security/military-prosecutor-senate-report-on-cia-interrogation-program-is-accurate/2016/02/10/d75d51a8-cf47-11e5-88cd-753e80cd29ad_story.html                                           \n",
       "677  https://www.huffingtonpost.comhttps://www.washingtonpost.com/world/jailed-washington-post-correspondent-has-christmas-meal-with-family/2015/12/25/dacdb3ac-ab2d-11e5-bff5-905b92f5f94b_story.html?postshare=2821451070250310&tid=ss_tw                               \n",
       "950  https://www.huffingtonpost.comhttps://www.washingtonpost.com/politics/fiery-republican-race-heads-to-sc-known-for-dirty-tricks-and-brawls/2016/02/10/a99b161e-d024-11e5-b2bc-988409ee911b_story.html?hpid=hp_hp-top-table-main_southcarolina-830pm:homepage/story    \n",
       "\n",
       "                                                                                     headline  \\\n",
       "159  megyn kelly on donald trump: 'i have done my level best to not make this story about me'   \n",
       "175  donald trump's assault on our values                                                       \n",
       "436  military prosecutor: senate report on cia interrogation program is accurate                \n",
       "677  washington post journalist jailed in iran has christmas meal with family                   \n",
       "950  gop race heads to south carolina, known for dirty tricks and brawls                        \n",
       "\n",
       "     is_sarcastic  \n",
       "159  0             \n",
       "175  0             \n",
       "436  0             \n",
       "677  0             \n",
       "950  0             "
      ]
     },
     "execution_count": 17,
     "metadata": {},
     "output_type": "execute_result"
    }
   ],
   "source": [
    "raw_df[df['source'] == 'comhttps'][:5]"
   ]
  },
  {
   "cell_type": "code",
   "execution_count": 18,
   "metadata": {
    "colab": {
     "base_uri": "https://localhost:8080/",
     "height": 195
    },
    "colab_type": "code",
    "id": "VCay_C-bthNm",
    "outputId": "f2cf329f-07d5-4300-b376-ae4260206da3"
   },
   "outputs": [
    {
     "data": {
      "text/html": [
       "<div>\n",
       "<style scoped>\n",
       "    .dataframe tbody tr th:only-of-type {\n",
       "        vertical-align: middle;\n",
       "    }\n",
       "\n",
       "    .dataframe tbody tr th {\n",
       "        vertical-align: top;\n",
       "    }\n",
       "\n",
       "    .dataframe thead th {\n",
       "        text-align: right;\n",
       "    }\n",
       "</style>\n",
       "<table border=\"1\" class=\"dataframe\">\n",
       "  <thead>\n",
       "    <tr style=\"text-align: right;\">\n",
       "      <th></th>\n",
       "      <th>article_link</th>\n",
       "      <th>headline</th>\n",
       "      <th>is_sarcastic</th>\n",
       "    </tr>\n",
       "  </thead>\n",
       "  <tbody>\n",
       "    <tr>\n",
       "      <th>12</th>\n",
       "      <td>https://www.huffingtonpost.comhttp://www.theguardian.com/world/2016/may/31/north-korea-praises-trump-and-urges-us-voters-to-reject-dull-hillary</td>\n",
       "      <td>north korea praises trump and urges us voters to reject 'dull hillary'</td>\n",
       "      <td>0</td>\n",
       "    </tr>\n",
       "    <tr>\n",
       "      <th>23</th>\n",
       "      <td>https://www.huffingtonpost.comhttp://pubx.co/dnWZew</td>\n",
       "      <td>this is why you shouldn't go to the circus</td>\n",
       "      <td>0</td>\n",
       "    </tr>\n",
       "    <tr>\n",
       "      <th>54</th>\n",
       "      <td>https://www.huffingtonpost.comhttp://www.wsj.com/articles/self-financing-campaign-all-the-way-would-have-been-a-stretch-for-trump-1463341722</td>\n",
       "      <td>donald trump wouldn't have had the ready cash to self-finance entire campaign — analysis</td>\n",
       "      <td>0</td>\n",
       "    </tr>\n",
       "    <tr>\n",
       "      <th>131</th>\n",
       "      <td>https://www.huffingtonpost.comhttp://www.baltimoresun.com/news/maryland/bs-md-eyeam-baltimore-tour-20150515-story.html</td>\n",
       "      <td>councilman calls on baltimore rappers to inspire students</td>\n",
       "      <td>0</td>\n",
       "    </tr>\n",
       "    <tr>\n",
       "      <th>166</th>\n",
       "      <td>https://www.huffingtonpost.comhttp://baltimore.cbslocal.com/2015/07/18/the-wire-cast-reunited-in-baltimore-to-uplift-community/</td>\n",
       "      <td>'the wire' cast reunited in baltimore to uplift community</td>\n",
       "      <td>0</td>\n",
       "    </tr>\n",
       "  </tbody>\n",
       "</table>\n",
       "</div>"
      ],
      "text/plain": [
       "                                                                                                                                        article_link  \\\n",
       "12   https://www.huffingtonpost.comhttp://www.theguardian.com/world/2016/may/31/north-korea-praises-trump-and-urges-us-voters-to-reject-dull-hillary   \n",
       "23   https://www.huffingtonpost.comhttp://pubx.co/dnWZew                                                                                               \n",
       "54   https://www.huffingtonpost.comhttp://www.wsj.com/articles/self-financing-campaign-all-the-way-would-have-been-a-stretch-for-trump-1463341722      \n",
       "131  https://www.huffingtonpost.comhttp://www.baltimoresun.com/news/maryland/bs-md-eyeam-baltimore-tour-20150515-story.html                            \n",
       "166  https://www.huffingtonpost.comhttp://baltimore.cbslocal.com/2015/07/18/the-wire-cast-reunited-in-baltimore-to-uplift-community/                   \n",
       "\n",
       "                                                                                     headline  \\\n",
       "12   north korea praises trump and urges us voters to reject 'dull hillary'                     \n",
       "23   this is why you shouldn't go to the circus                                                 \n",
       "54   donald trump wouldn't have had the ready cash to self-finance entire campaign — analysis   \n",
       "131  councilman calls on baltimore rappers to inspire students                                  \n",
       "166  'the wire' cast reunited in baltimore to uplift community                                  \n",
       "\n",
       "     is_sarcastic  \n",
       "12   0             \n",
       "23   0             \n",
       "54   0             \n",
       "131  0             \n",
       "166  0             "
      ]
     },
     "execution_count": 18,
     "metadata": {},
     "output_type": "execute_result"
    }
   ],
   "source": [
    "raw_df[df['source'] == 'comhttp'][:5]"
   ]
  },
  {
   "cell_type": "markdown",
   "metadata": {
    "colab_type": "text",
    "id": "rhNY-20Vnamx"
   },
   "source": [
    "After checking article links for both comhttp and comhttps sources, seems like these links have an extra huffingtonpost link in front of the actual links. I am not sure if these articles are from hufffingtonpost or other websites. Therefore, I decided to classified these links as Others for source. "
   ]
  },
  {
   "cell_type": "code",
   "execution_count": 19,
   "metadata": {
    "colab": {},
    "colab_type": "code",
    "id": "pq-aBrJFuJ0Q"
   },
   "outputs": [],
   "source": [
    "df['source'].replace('comhttp','others', inplace=True)\n",
    "df['source'].replace('comhttps','others', inplace=True)"
   ]
  },
  {
   "cell_type": "code",
   "execution_count": 20,
   "metadata": {
    "colab": {
     "base_uri": "https://localhost:8080/",
     "height": 34
    },
    "colab_type": "code",
    "id": "AS7ldAqtxNJU",
    "outputId": "fceb5a30-4d0f-4741-948c-9fbddc883ead"
   },
   "outputs": [
    {
     "data": {
      "text/plain": [
       "array(['huffingtonpost', 'theonion', 'others'], dtype=object)"
      ]
     },
     "execution_count": 20,
     "metadata": {},
     "output_type": "execute_result"
    }
   ],
   "source": [
    "df['source'].unique()"
   ]
  },
  {
   "cell_type": "code",
   "execution_count": 21,
   "metadata": {
    "colab": {
     "base_uri": "https://localhost:8080/",
     "height": 563
    },
    "colab_type": "code",
    "id": "ohyXgiXmomxY",
    "outputId": "ed2760df-9fc7-44af-bee9-b3db93e34335"
   },
   "outputs": [
    {
     "name": "stdout",
     "output_type": "stream",
     "text": [
      "Total Number of Article from HuffingtonPost: 14403\n",
      "Total Number of Article from The Onion: 11724\n",
      "Total Number of Article from Other Sources: 582\n"
     ]
    },
    {
     "data": {
      "image/png": "[encoded data removed]",
      "text/plain": [
       "<Figure size 1080x576 with 1 Axes>"
      ]
     },
     "metadata": {
      "needs_background": "light"
     },
     "output_type": "display_data"
    }
   ],
   "source": [
    "plt.figure(figsize=(15,8))\n",
    "ax = sns.countplot(x=\"source\", data=df)\n",
    "ax.set_title('Total Count of Article Source')\n",
    "ax.set_xlabel('Article Source')\n",
    "\n",
    "print('Total Number of Article from HuffingtonPost: ' + \n",
    "      str(df[df['source'] == 'huffingtonpost'].shape[0]))\n",
    "print('Total Number of Article from The Onion: ' + \n",
    "      str(df[df['source'] == 'theonion'].shape[0]))\n",
    "print('Total Number of Article from Other Sources: ' + \n",
    "      str(df[df['source'] == 'others'].shape[0]))"
   ]
  },
  {
   "cell_type": "code",
   "execution_count": 22,
   "metadata": {
    "colab": {
     "base_uri": "https://localhost:8080/",
     "height": 614
    },
    "colab_type": "code",
    "id": "StbJ3eKRxTs1",
    "outputId": "0cb42c4a-2870-4943-99c8-973bfcaafaeb"
   },
   "outputs": [
    {
     "name": "stdout",
     "output_type": "stream",
     "text": [
      "Total Number of Articles from HuffingtonPost is NOT Sarcastic:14403\n",
      "Total Number of Articles from HuffingtonPost is Sarcastic:0\n",
      "Total Number of Articles from The Onion is NOT Sarcastic:0\n",
      "Total Number of Articles from The Onion is Sarcastic:11724\n",
      "Total Number of Articles from Others is NOT Sarcastic:582\n",
      "Total Number of Articles from Others is Sarcastic:0\n"
     ]
    },
    {
     "data": {
      "image/png": "[encoded data removed]",
      "text/plain": [
       "<Figure size 1080x576 with 1 Axes>"
      ]
     },
     "metadata": {
      "needs_background": "light"
     },
     "output_type": "display_data"
    }
   ],
   "source": [
    "plt.figure(figsize=(15,8))\n",
    "ax = sns.countplot(x=\"source\",hue='is_sarcastic', data=df)\n",
    "ax.set_title('Total Count of Article Source')\n",
    "ax.set_xlabel('Article Source')\n",
    "\n",
    "print('Total Number of Articles from HuffingtonPost is NOT Sarcastic:' + \n",
    "      str(df[(df['source']=='huffingtonpost') & (df['is_sarcastic'] == 0)].shape[0]))\n",
    "print('Total Number of Articles from HuffingtonPost is Sarcastic:' + \n",
    "      str(df[(df['source']=='huffingtonpost') & (df['is_sarcastic'] == 1)].shape[0]))\n",
    "print('Total Number of Articles from The Onion is NOT Sarcastic:' + \n",
    "      str(df[(df['source']=='theonion') & (df['is_sarcastic'] == 0)].shape[0]))\n",
    "print('Total Number of Articles from The Onion is Sarcastic:' + \n",
    "      str(df[(df['source']=='theonion') & (df['is_sarcastic'] == 1)].shape[0]))\n",
    "print('Total Number of Articles from Others is NOT Sarcastic:' + \n",
    "      str(df[(df['source']=='others') & (df['is_sarcastic'] == 0)].shape[0]))\n",
    "print('Total Number of Articles from Others is Sarcastic:' + \n",
    "      str(df[(df['source']=='others') & (df['is_sarcastic'] == 1)].shape[0]))"
   ]
  },
  {
   "cell_type": "code",
   "execution_count": 23,
   "metadata": {
    "colab": {
     "base_uri": "https://localhost:8080/",
     "height": 195
    },
    "colab_type": "code",
    "id": "s8wXmJYR5ucD",
    "outputId": "12f88fd9-4c74-4190-81d6-0e5ea7f9731f"
   },
   "outputs": [
    {
     "data": {
      "text/html": [
       "<div>\n",
       "<style scoped>\n",
       "    .dataframe tbody tr th:only-of-type {\n",
       "        vertical-align: middle;\n",
       "    }\n",
       "\n",
       "    .dataframe tbody tr th {\n",
       "        vertical-align: top;\n",
       "    }\n",
       "\n",
       "    .dataframe thead th {\n",
       "        text-align: right;\n",
       "    }\n",
       "</style>\n",
       "<table border=\"1\" class=\"dataframe\">\n",
       "  <thead>\n",
       "    <tr style=\"text-align: right;\">\n",
       "      <th></th>\n",
       "      <th>source</th>\n",
       "      <th>headline</th>\n",
       "      <th>headline_cleaned</th>\n",
       "      <th>is_sarcastic</th>\n",
       "    </tr>\n",
       "  </thead>\n",
       "  <tbody>\n",
       "    <tr>\n",
       "      <th>0</th>\n",
       "      <td>huffingtonpost</td>\n",
       "      <td>former versace store clerk sues over secret black code for minority shoppers</td>\n",
       "      <td>[former, versace, store, clerk, sue, secret, black, code, minority, shopper]</td>\n",
       "      <td>0</td>\n",
       "    </tr>\n",
       "    <tr>\n",
       "      <th>1</th>\n",
       "      <td>huffingtonpost</td>\n",
       "      <td>the roseanne revival catches up to our thorny political mood for better and worse</td>\n",
       "      <td>[roseanne, revival, catch, -PRON-, thorny, political, mood, well, bad]</td>\n",
       "      <td>0</td>\n",
       "    </tr>\n",
       "    <tr>\n",
       "      <th>2</th>\n",
       "      <td>theonion</td>\n",
       "      <td>mom starting to fear son s web series closest thing she will have to grandchild</td>\n",
       "      <td>[mom, start, fear, son, web, series, close, thing, -PRON-, grandchild]</td>\n",
       "      <td>1</td>\n",
       "    </tr>\n",
       "    <tr>\n",
       "      <th>3</th>\n",
       "      <td>theonion</td>\n",
       "      <td>boehner just wants wife to listen not come up with alternative debt reduction ideas</td>\n",
       "      <td>[boehner, want, wife, listen, come, alternative, debt, reduction, idea]</td>\n",
       "      <td>1</td>\n",
       "    </tr>\n",
       "    <tr>\n",
       "      <th>4</th>\n",
       "      <td>huffingtonpost</td>\n",
       "      <td>j k rowling wishes snape happy birthday in the most magical way</td>\n",
       "      <td>[j, k, rowling, wish, snape, happy, birthday, magical, way]</td>\n",
       "      <td>0</td>\n",
       "    </tr>\n",
       "  </tbody>\n",
       "</table>\n",
       "</div>"
      ],
      "text/plain": [
       "           source  \\\n",
       "0  huffingtonpost   \n",
       "1  huffingtonpost   \n",
       "2  theonion         \n",
       "3  theonion         \n",
       "4  huffingtonpost   \n",
       "\n",
       "                                                                              headline  \\\n",
       "0  former versace store clerk sues over secret black code for minority shoppers          \n",
       "1  the roseanne revival catches up to our thorny political mood for better and worse     \n",
       "2  mom starting to fear son s web series closest thing she will have to grandchild       \n",
       "3  boehner just wants wife to listen not come up with alternative debt reduction ideas   \n",
       "4  j k rowling wishes snape happy birthday in the most magical way                       \n",
       "\n",
       "                                                               headline_cleaned  \\\n",
       "0  [former, versace, store, clerk, sue, secret, black, code, minority, shopper]   \n",
       "1  [roseanne, revival, catch, -PRON-, thorny, political, mood, well, bad]         \n",
       "2  [mom, start, fear, son, web, series, close, thing, -PRON-, grandchild]         \n",
       "3  [boehner, want, wife, listen, come, alternative, debt, reduction, idea]        \n",
       "4  [j, k, rowling, wish, snape, happy, birthday, magical, way]                    \n",
       "\n",
       "   is_sarcastic  \n",
       "0  0             \n",
       "1  0             \n",
       "2  1             \n",
       "3  1             \n",
       "4  0             "
      ]
     },
     "execution_count": 23,
     "metadata": {},
     "output_type": "execute_result"
    }
   ],
   "source": [
    "df.head()"
   ]
  },
  {
   "cell_type": "markdown",
   "metadata": {
    "colab_type": "text",
    "id": "xg4z_7-P2-74"
   },
   "source": [
    "## NLP with Clustering as Classifier Approach"
   ]
  },
  {
   "cell_type": "code",
   "execution_count": 24,
   "metadata": {
    "colab": {},
    "colab_type": "code",
    "id": "0hlwior45fHh"
   },
   "outputs": [],
   "source": [
    "# Before vetoriziing \n",
    "df['headline_cleaned'] = df['headline_cleaned'].apply(lambda x: ' '.join(x))"
   ]
  },
  {
   "cell_type": "code",
   "execution_count": 25,
   "metadata": {
    "colab": {
     "base_uri": "https://localhost:8080/",
     "height": 195
    },
    "colab_type": "code",
    "id": "i0DqBgK26vGb",
    "outputId": "d599f8b0-3e94-45c6-f21a-910936726c7c"
   },
   "outputs": [
    {
     "data": {
      "text/html": [
       "<div>\n",
       "<style scoped>\n",
       "    .dataframe tbody tr th:only-of-type {\n",
       "        vertical-align: middle;\n",
       "    }\n",
       "\n",
       "    .dataframe tbody tr th {\n",
       "        vertical-align: top;\n",
       "    }\n",
       "\n",
       "    .dataframe thead th {\n",
       "        text-align: right;\n",
       "    }\n",
       "</style>\n",
       "<table border=\"1\" class=\"dataframe\">\n",
       "  <thead>\n",
       "    <tr style=\"text-align: right;\">\n",
       "      <th></th>\n",
       "      <th>source</th>\n",
       "      <th>headline</th>\n",
       "      <th>headline_cleaned</th>\n",
       "      <th>is_sarcastic</th>\n",
       "    </tr>\n",
       "  </thead>\n",
       "  <tbody>\n",
       "    <tr>\n",
       "      <th>0</th>\n",
       "      <td>huffingtonpost</td>\n",
       "      <td>former versace store clerk sues over secret black code for minority shoppers</td>\n",
       "      <td>former versace store clerk sue secret black code minority shopper</td>\n",
       "      <td>0</td>\n",
       "    </tr>\n",
       "    <tr>\n",
       "      <th>1</th>\n",
       "      <td>huffingtonpost</td>\n",
       "      <td>the roseanne revival catches up to our thorny political mood for better and worse</td>\n",
       "      <td>roseanne revival catch -PRON- thorny political mood well bad</td>\n",
       "      <td>0</td>\n",
       "    </tr>\n",
       "    <tr>\n",
       "      <th>2</th>\n",
       "      <td>theonion</td>\n",
       "      <td>mom starting to fear son s web series closest thing she will have to grandchild</td>\n",
       "      <td>mom start fear son web series close thing -PRON- grandchild</td>\n",
       "      <td>1</td>\n",
       "    </tr>\n",
       "    <tr>\n",
       "      <th>3</th>\n",
       "      <td>theonion</td>\n",
       "      <td>boehner just wants wife to listen not come up with alternative debt reduction ideas</td>\n",
       "      <td>boehner want wife listen come alternative debt reduction idea</td>\n",
       "      <td>1</td>\n",
       "    </tr>\n",
       "    <tr>\n",
       "      <th>4</th>\n",
       "      <td>huffingtonpost</td>\n",
       "      <td>j k rowling wishes snape happy birthday in the most magical way</td>\n",
       "      <td>j k rowling wish snape happy birthday magical way</td>\n",
       "      <td>0</td>\n",
       "    </tr>\n",
       "  </tbody>\n",
       "</table>\n",
       "</div>"
      ],
      "text/plain": [
       "           source  \\\n",
       "0  huffingtonpost   \n",
       "1  huffingtonpost   \n",
       "2  theonion         \n",
       "3  theonion         \n",
       "4  huffingtonpost   \n",
       "\n",
       "                                                                              headline  \\\n",
       "0  former versace store clerk sues over secret black code for minority shoppers          \n",
       "1  the roseanne revival catches up to our thorny political mood for better and worse     \n",
       "2  mom starting to fear son s web series closest thing she will have to grandchild       \n",
       "3  boehner just wants wife to listen not come up with alternative debt reduction ideas   \n",
       "4  j k rowling wishes snape happy birthday in the most magical way                       \n",
       "\n",
       "                                                    headline_cleaned  \\\n",
       "0  former versace store clerk sue secret black code minority shopper   \n",
       "1  roseanne revival catch -PRON- thorny political mood well bad        \n",
       "2  mom start fear son web series close thing -PRON- grandchild         \n",
       "3  boehner want wife listen come alternative debt reduction idea       \n",
       "4  j k rowling wish snape happy birthday magical way                   \n",
       "\n",
       "   is_sarcastic  \n",
       "0  0             \n",
       "1  0             \n",
       "2  1             \n",
       "3  1             \n",
       "4  0             "
      ]
     },
     "execution_count": 25,
     "metadata": {},
     "output_type": "execute_result"
    }
   ],
   "source": [
    "df.head()"
   ]
  },
  {
   "cell_type": "code",
   "execution_count": 26,
   "metadata": {
    "colab": {},
    "colab_type": "code",
    "id": "VOm_4Qpo29PX"
   },
   "outputs": [],
   "source": [
    "# Vectorize our headlines. \n",
    "\n",
    "from sklearn.feature_extraction.text import TfidfVectorizer\n",
    "\n",
    "vectorizer = TfidfVectorizer(lowercase = True,\n",
    "                            max_df=0.5,\n",
    "                            min_df = 2,\n",
    "                            stop_words = 'english',\n",
    "                            use_idf = True,\n",
    "                            ngram_range = (1,3),\n",
    "                            smooth_idf = True\n",
    "                            )\n",
    "X = vectorizer.fit_transform(df['headline_cleaned'].values)"
   ]
  },
  {
   "cell_type": "code",
   "execution_count": 27,
   "metadata": {
    "colab": {
     "base_uri": "https://localhost:8080/",
     "height": 34
    },
    "colab_type": "code",
    "id": "MakJJLn0XzJI",
    "outputId": "8f73a14a-60eb-4418-c07f-29d18ba62857"
   },
   "outputs": [
    {
     "data": {
      "text/plain": [
       "(26709, 25407)"
      ]
     },
     "execution_count": 27,
     "metadata": {},
     "output_type": "execute_result"
    }
   ],
   "source": [
    "X.shape"
   ]
  },
  {
   "cell_type": "code",
   "execution_count": 28,
   "metadata": {
    "colab": {
     "base_uri": "https://localhost:8080/",
     "height": 50
    },
    "colab_type": "code",
    "id": "ve3it-Z8qxXE",
    "outputId": "3ee2b63f-89b7-49f2-dead-620117cf725f"
   },
   "outputs": [
    {
     "data": {
      "text/plain": [
       "<5x25407 sparse matrix of type '<class 'numpy.float64'>'\n",
       "\twith 48 stored elements in Compressed Sparse Row format>"
      ]
     },
     "execution_count": 28,
     "metadata": {},
     "output_type": "execute_result"
    }
   ],
   "source": [
    "X[:5]"
   ]
  },
  {
   "cell_type": "code",
   "execution_count": 29,
   "metadata": {
    "colab": {},
    "colab_type": "code",
    "id": "N4CPwO9YR9SH"
   },
   "outputs": [],
   "source": [
    "# Create X and Y, and split our dataset into train \n",
    "# and test dataset. \n",
    "\n",
    "from sklearn.model_selection import train_test_split\n",
    "\n",
    "Y = df['is_sarcastic']\n",
    "\n",
    "X_train, X_test, Y_train, Y_test = train_test_split(\n",
    "    X, Y, test_size = 0.3, random_state = 44)"
   ]
  },
  {
   "cell_type": "code",
   "execution_count": 30,
   "metadata": {
    "colab": {
     "base_uri": "https://localhost:8080/",
     "height": 470
    },
    "colab_type": "code",
    "id": "0XVb5enO7LGl",
    "outputId": "80a85b6b-3616-4823-974c-a2497e2fa798"
   },
   "outputs": [
    {
     "name": "stdout",
     "output_type": "stream",
     "text": [
      "Comparing k-means clusters against the data:\n",
      "is_sarcastic     0     1\n",
      "row_0                   \n",
      "0             7634  6704\n",
      "1             2854  1504\n",
      "K-Mean Clustering Training Group Classification Report:\n",
      "             precision    recall  f1-score   support\n",
      "\n",
      "          0       0.53      0.73      0.62     10488\n",
      "          1       0.35      0.18      0.24      8208\n",
      "\n",
      "avg / total       0.45      0.49      0.45     18696\n",
      "\n",
      "\n",
      "K-Mean Clustering Testing Group Classification Report:\n",
      "             precision    recall  f1-score   support\n",
      "\n",
      "          0       0.53      0.73      0.62      4497\n",
      "          1       0.34      0.18      0.23      3516\n",
      "\n",
      "avg / total       0.45      0.49      0.45      8013\n",
      "\n",
      "\n"
     ]
    }
   ],
   "source": [
    "#First, use K-mean to see how it performs. \n",
    "\n",
    "from sklearn.cluster import KMeans\n",
    "from sklearn.cluster import MiniBatchKMeans\n",
    "\n",
    "km = KMeans(n_clusters=2, random_state=42)\n",
    "km.fit(X_train)\n",
    "\n",
    "predict_km_train = km.predict(X_train)\n",
    "predict_km_test = km.predict(X_test)\n",
    "\n",
    "print('Comparing k-means clusters against the data:')\n",
    "print(pd.crosstab(predict_km_train, Y_train))\n",
    "\n",
    "print(\"K-Mean Clustering Training Group Classification Report:\\n%s\\n\"\n",
    "      % (metrics.classification_report(Y_train, predict_km_train)))\n",
    "\n",
    "print(\"K-Mean Clustering Testing Group Classification Report:\\n%s\\n\"\n",
    "      % (metrics.classification_report(Y_test, predict_km_test)))"
   ]
  },
  {
   "cell_type": "code",
   "execution_count": 31,
   "metadata": {
    "colab": {
     "base_uri": "https://localhost:8080/",
     "height": 470
    },
    "colab_type": "code",
    "id": "b4C9VbTL8L8-",
    "outputId": "972675bf-4b87-4226-e218-dee8b3ae86f1"
   },
   "outputs": [
    {
     "name": "stdout",
     "output_type": "stream",
     "text": [
      "Comparing mini batch K-mean clusters against the data:\n",
      "is_sarcastic     0     1\n",
      "row_0                   \n",
      "0             7637  6710\n",
      "1             2851  1498\n",
      "Mini Batch K-Mean Clustering Training Group Classification Report:\n",
      "             precision    recall  f1-score   support\n",
      "\n",
      "          0       0.53      0.73      0.62     10488\n",
      "          1       0.34      0.18      0.24      8208\n",
      "\n",
      "avg / total       0.45      0.49      0.45     18696\n",
      "\n",
      "\n",
      "Mini Batch K-Mean Clustering Testing Group Classification Report:\n",
      "             precision    recall  f1-score   support\n",
      "\n",
      "          0       0.53      0.73      0.62      4497\n",
      "          1       0.34      0.18      0.23      3516\n",
      "\n",
      "avg / total       0.45      0.49      0.45      8013\n",
      "\n",
      "\n"
     ]
    }
   ],
   "source": [
    "minibatchkmeans = MiniBatchKMeans(\n",
    "    init='random',\n",
    "    n_clusters=2,\n",
    "    batch_size=200)\n",
    "minibatchkmeans.fit(X_train)\n",
    "\n",
    "predict_mini_train = minibatchkmeans.predict(X_train)\n",
    "predict_mini_test = minibatchkmeans.predict(X_test)\n",
    "\n",
    "# Check the MiniBatch model against our earlier one.\n",
    "print('Comparing mini batch K-mean clusters against the data:')\n",
    "print(pd.crosstab(predict_mini_train, Y_train))\n",
    "\n",
    "print(\"Mini Batch K-Mean Clustering Training Group Classification Report:\\n%s\\n\"\n",
    "      % (metrics.classification_report(Y_train, predict_mini_train)))\n",
    "\n",
    "print(\"Mini Batch K-Mean Clustering Testing Group Classification Report:\\n%s\\n\"\n",
    "      % (metrics.classification_report(Y_test, predict_mini_test)))"
   ]
  },
  {
   "cell_type": "code",
   "execution_count": 41,
   "metadata": {},
   "outputs": [
    {
     "name": "stdout",
     "output_type": "stream",
     "text": [
      "Silhouette Score for K-mean: 0.002\n",
      "Silhouette Score for Mini batch K-mean: 0.001\n"
     ]
    }
   ],
   "source": [
    "print(\"Silhouette Score for K-mean: %0.3f\" % metrics.silhouette_score(X, km.fit(X).labels_, metric='euclidean'))\n",
    "print(\"Silhouette Score for Mini batch K-mean: %0.3f\" % metrics.silhouette_score(X, minibatchkmeans.fit(X).labels_, metric='euclidean'))"
   ]
  },
  {
   "cell_type": "markdown",
   "metadata": {
    "colab_type": "text",
    "id": "OqP7y-KVB45L"
   },
   "source": [
    "According to above results, we can see that K-mean and Mini Batch K-mean are not performing very well on indentifing Sarcasm and Non-Sarcasm headlines. This is because K-mean, mini batch K-means, and other clustering algorithms are more for grouping features together rather than using it as classifier. For this case here, we could use clustering algorithms as classifier becuase we only have two classes in our outcome, which is a very simple case when we look at our clusters at the end. However, if we have a dataset with multi-class outcomes, clustering algorithms are not a good approach. This is also the reason that we do not have high accuracy score for our clustering models above. Also, K-means have assumptions for spherical data point shape, normally distributed, and etc., which may not be the case for our vectorized data.According to the cross-tab above, both K-mean and mini batch K-mean have a high failure rate on identifing the correct sarcasm headlines. In terms of Silhouette Score for both clustering algorithms, both algorithms are not good with 2 clusters. It implies that it may have too few clusters. It also indicates that clustering algorithms are not suitable for classification, because Silhouette Score implying 2 clusters is not enough, but our target outcome only have two classes. "
   ]
  },
  {
   "cell_type": "markdown",
   "metadata": {
    "colab_type": "text",
    "id": "Pj1I6Ly8CAeE"
   },
   "source": [
    "## Feacture Reduction - PCA, and RBM"
   ]
  },
  {
   "cell_type": "code",
   "execution_count": 51,
   "metadata": {
    "colab": {},
    "colab_type": "code",
    "id": "JfpxcWd3V4mN"
   },
   "outputs": [],
   "source": [
    "from sklearn import preprocessing\n",
    "from sklearn import decomposition\n",
    "\n",
    "X_norm = preprocessing.normalize(X)\n",
    "X_SVD_test = decomposition.TruncatedSVD(n_components = 10000).fit(X_norm)"
   ]
  },
  {
   "cell_type": "code",
   "execution_count": 50,
   "metadata": {},
   "outputs": [
    {
     "data": {
      "text/plain": [
       "(26709, 25407)"
      ]
     },
     "execution_count": 50,
     "metadata": {},
     "output_type": "execute_result"
    }
   ],
   "source": [
    "X_norm.shape"
   ]
  },
  {
   "cell_type": "code",
   "execution_count": 52,
   "metadata": {},
   "outputs": [
    {
     "data": {
      "image/png": "[encoded data removed]",
      "text/plain": [
       "<Figure size 720x504 with 1 Axes>"
      ]
     },
     "metadata": {
      "needs_background": "light"
     },
     "output_type": "display_data"
    },
    {
     "name": "stdout",
     "output_type": "stream",
     "text": [
      "The Cumulative Explained Variance:\n",
      "[0.00312186 0.00569418 0.00802635 ... 0.90622932 0.90624787 0.90626641]\n"
     ]
    }
   ],
   "source": [
    "plt.figure(figsize=(10,7))\n",
    "plt.plot(np.cumsum(X_SVD_test.explained_variance_ratio_), color='k', lw=2)\n",
    "plt.xlabel('Number of components')\n",
    "plt.ylabel('Total explained variance')\n",
    "plt.xlim(0, 10000)\n",
    "plt.yticks(np.arange(0, 1.1, 0.1))\n",
    "plt.show()\n",
    "\n",
    "print('The Cumulative Explained Variance:')\n",
    "print(np.cumsum(X_SVD_test.explained_variance_ratio_))"
   ]
  },
  {
   "cell_type": "code",
   "execution_count": null,
   "metadata": {},
   "outputs": [],
   "source": [
    "X_SVD = decomposition.TruncatedSVD(n_components = 10000).fit(X_norm).fit_transform(X_norm)"
   ]
  },
  {
   "cell_type": "code",
   "execution_count": null,
   "metadata": {
    "colab": {},
    "colab_type": "code",
    "id": "4TBa1-WcCEOw"
   },
   "outputs": [],
   "source": [
    "from sklearn.neural_network import BernoulliRBM\n",
    "\n",
    "rbm = BernoulliRBM(learning_rate = 0.0005, n_iter = 20,\n",
    "                   n_components = 100, verbose = True)\n",
    "\n",
    "rbm.fit(X_SVD)\n",
    "\n",
    "predict_rbm_train = rbm.predict(X_SVD)"
   ]
  },
  {
   "cell_type": "code",
   "execution_count": 0,
   "metadata": {
    "colab": {},
    "colab_type": "code",
    "id": "QR6IobaHT_1G"
   },
   "outputs": [],
   "source": [
    "print(\"K-Mean using RBM features:\\n%s\\n\" % (\n",
    "    metrics.classification_report(Y_train, predict_rbm_train)))"
   ]
  },
  {
   "cell_type": "markdown",
   "metadata": {
    "colab_type": "text",
    "id": "pENwyRE_0172"
   },
   "source": [
    "## NLP with MLP Classifier"
   ]
  },
  {
   "cell_type": "code",
   "execution_count": 32,
   "metadata": {
    "colab": {
     "base_uri": "https://localhost:8080/",
     "height": 134
    },
    "colab_type": "code",
    "id": "9Xl1xE3mt7W-",
    "outputId": "e5973c0d-91b5-4c4e-a930-af5d43bff48b"
   },
   "outputs": [
    {
     "data": {
      "text/plain": [
       "MLPClassifier(activation='relu', alpha=0.0001, batch_size='auto', beta_1=0.9,\n",
       "       beta_2=0.999, early_stopping=True, epsilon=1e-08,\n",
       "       hidden_layer_sizes=(100,), learning_rate='constant',\n",
       "       learning_rate_init=0.001, max_iter=200, momentum=0.9,\n",
       "       nesterovs_momentum=True, power_t=0.5, random_state=None,\n",
       "       shuffle=True, solver='adam', tol=0.0001, validation_fraction=0.1,\n",
       "       verbose=False, warm_start=False)"
      ]
     },
     "execution_count": 32,
     "metadata": {},
     "output_type": "execute_result"
    }
   ],
   "source": [
    "from sklearn.neural_network import MLPClassifier\n",
    "\n",
    "mlp = MLPClassifier(hidden_layer_sizes=(100,), early_stopping = True)\n",
    "mlp.fit(X_train, Y_train)"
   ]
  },
  {
   "cell_type": "code",
   "execution_count": 33,
   "metadata": {
    "colab": {
     "base_uri": "https://localhost:8080/",
     "height": 34
    },
    "colab_type": "code",
    "id": "9pGvGe18u7CY",
    "outputId": "17b450f9-41d5-4dbf-fe2b-c3f0a13ebed0"
   },
   "outputs": [
    {
     "name": "stdout",
     "output_type": "stream",
     "text": [
      "Training Set score: 0.934\n",
      "Training Set score: 0.800\n"
     ]
    }
   ],
   "source": [
    "print(\"Training Set score: %0.3f\" % (mlp.score(X_train, Y_train)))\n",
    "print(\"Training Set score: %0.3f\" % (mlp.score(X_test, Y_test)))"
   ]
  },
  {
   "cell_type": "code",
   "execution_count": 34,
   "metadata": {
    "colab": {
     "base_uri": "https://localhost:8080/",
     "height": 185
    },
    "colab_type": "code",
    "id": "FLKqD0B7vhlA",
    "outputId": "6993fb85-8fa1-4c7b-d9ed-cd8573ac7c96"
   },
   "outputs": [
    {
     "name": "stdout",
     "output_type": "stream",
     "text": [
      "Comparing MLP CLassifier on Test data:\n",
      "is_sarcastic     0     1\n",
      "row_0                   \n",
      "0             3770  878 \n",
      "1             727   2638\n",
      "Comparing MLP CLassifier on Training data:\n",
      "is_sarcastic     0     1\n",
      "row_0                   \n",
      "0             9919  669 \n",
      "1             569   7539\n"
     ]
    }
   ],
   "source": [
    "predict_mlp_test = mlp.predict(X_test)\n",
    "predict_mlp_train = mlp.predict(X_train)\n",
    "\n",
    "print('Comparing MLP CLassifier on Test data:')\n",
    "print(pd.crosstab(predict_mlp_test, Y_test))\n",
    "\n",
    "print('Comparing MLP CLassifier on Training data:')\n",
    "print(pd.crosstab(predict_mlp_train, Y_train))"
   ]
  },
  {
   "cell_type": "markdown",
   "metadata": {
    "colab_type": "text",
    "id": "R2FuIV8hFWoG"
   },
   "source": [
    "Using the MLP classifier, the model performance increase significantly. Also, originally with a network with hidden layer sizes of (1000,4), we had a accuracy score of 0.92 on the training dataset and 0.78 on the testing dataset. This is clearly overfitting. This may deal to our MLP classifier is learning the data so well that it produce an exact output on the other end of the neural netwok. Therefore, we can try to change the size of the hidden layer, or modify our L2 penalty to address the overfitting problem. "
   ]
  },
  {
   "cell_type": "markdown",
   "metadata": {
    "colab_type": "text",
    "id": "60r5zCamHqta"
   },
   "source": [
    "### GridSearch CV for MLP Classifier\n",
    "After reducing the hidden layer size, the MLP Classifier still have overfitting issue. Therefore, we will try GridSearch CV here to select the L2 penalty and hidden layer size. "
   ]
  },
  {
   "cell_type": "code",
   "execution_count": 58,
   "metadata": {
    "colab": {
     "base_uri": "https://localhost:8080/",
     "height": 438
    },
    "colab_type": "code",
    "id": "MHFMjop0HpzW",
    "outputId": "a62cb231-e6e0-4e96-98e3-16e624bd43c2"
   },
   "outputs": [
    {
     "name": "stdout",
     "output_type": "stream",
     "text": [
      "Fitting 5 folds for each of 10 candidates, totalling 50 fits\n"
     ]
    },
    {
     "name": "stderr",
     "output_type": "stream",
     "text": [
      "[Parallel(n_jobs=-1)]: Using backend LokyBackend with 2 concurrent workers.\n",
      "[Parallel(n_jobs=-1)]: Done   1 tasks      | elapsed:  5.9min\n",
      "[Parallel(n_jobs=-1)]: Done   2 tasks      | elapsed:  5.9min\n",
      "[Parallel(n_jobs=-1)]: Done   3 tasks      | elapsed:  5.9min\n",
      "[Parallel(n_jobs=-1)]: Done   4 tasks      | elapsed:  5.9min\n"
     ]
    },
    {
     "ename": "KeyboardInterrupt",
     "evalue": "ignored",
     "output_type": "error",
     "traceback": [
      "\u001b[0;31m---------------------------------------------------------------------------\u001b[0m",
      "\u001b[0;31mKeyboardInterrupt\u001b[0m                         Traceback (most recent call last)",
      "\u001b[0;32m<ipython-input-58-29fbde4586ef>\u001b[0m in \u001b[0;36m<module>\u001b[0;34m()\u001b[0m\n\u001b[1;32m      5\u001b[0m \u001b[0;34m\u001b[0m\u001b[0m\n\u001b[1;32m      6\u001b[0m \u001b[0mgs\u001b[0m \u001b[0;34m=\u001b[0m \u001b[0mGridSearchCV\u001b[0m\u001b[0;34m(\u001b[0m\u001b[0mmlp\u001b[0m\u001b[0;34m,\u001b[0m \u001b[0mMLP_para\u001b[0m\u001b[0;34m,\u001b[0m \u001b[0mcv\u001b[0m\u001b[0;34m=\u001b[0m\u001b[0;36m5\u001b[0m\u001b[0;34m,\u001b[0m \u001b[0mn_jobs\u001b[0m \u001b[0;34m=\u001b[0m \u001b[0;34m-\u001b[0m\u001b[0;36m1\u001b[0m\u001b[0;34m,\u001b[0m \u001b[0mverbose\u001b[0m \u001b[0;34m=\u001b[0m \u001b[0;36m20\u001b[0m\u001b[0;34m,\u001b[0m \u001b[0mscoring\u001b[0m \u001b[0;34m=\u001b[0m \u001b[0;34m'accuracy'\u001b[0m\u001b[0;34m)\u001b[0m\u001b[0;34m\u001b[0m\u001b[0;34m\u001b[0m\u001b[0m\n\u001b[0;32m----> 7\u001b[0;31m \u001b[0mgs\u001b[0m\u001b[0;34m.\u001b[0m\u001b[0mfit\u001b[0m\u001b[0;34m(\u001b[0m\u001b[0mX\u001b[0m\u001b[0;34m,\u001b[0m \u001b[0mY\u001b[0m\u001b[0;34m)\u001b[0m\u001b[0;34m\u001b[0m\u001b[0;34m\u001b[0m\u001b[0m\n\u001b[0m",
      "\u001b[0;32m/usr/local/lib/python3.6/dist-packages/sklearn/model_selection/_search.py\u001b[0m in \u001b[0;36mfit\u001b[0;34m(self, X, y, groups, **fit_params)\u001b[0m\n\u001b[1;32m    720\u001b[0m                 \u001b[0;32mreturn\u001b[0m \u001b[0mresults_container\u001b[0m\u001b[0;34m[\u001b[0m\u001b[0;36m0\u001b[0m\u001b[0;34m]\u001b[0m\u001b[0;34m\u001b[0m\u001b[0;34m\u001b[0m\u001b[0m\n\u001b[1;32m    721\u001b[0m \u001b[0;34m\u001b[0m\u001b[0m\n\u001b[0;32m--> 722\u001b[0;31m             \u001b[0mself\u001b[0m\u001b[0;34m.\u001b[0m\u001b[0m_run_search\u001b[0m\u001b[0;34m(\u001b[0m\u001b[0mevaluate_candidates\u001b[0m\u001b[0;34m)\u001b[0m\u001b[0;34m\u001b[0m\u001b[0;34m\u001b[0m\u001b[0m\n\u001b[0m\u001b[1;32m    723\u001b[0m \u001b[0;34m\u001b[0m\u001b[0m\n\u001b[1;32m    724\u001b[0m         \u001b[0mresults\u001b[0m \u001b[0;34m=\u001b[0m \u001b[0mresults_container\u001b[0m\u001b[0;34m[\u001b[0m\u001b[0;36m0\u001b[0m\u001b[0;34m]\u001b[0m\u001b[0;34m\u001b[0m\u001b[0;34m\u001b[0m\u001b[0m\n",
      "\u001b[0;32m/usr/local/lib/python3.6/dist-packages/sklearn/model_selection/_search.py\u001b[0m in \u001b[0;36m_run_search\u001b[0;34m(self, evaluate_candidates)\u001b[0m\n\u001b[1;32m   1189\u001b[0m     \u001b[0;32mdef\u001b[0m \u001b[0m_run_search\u001b[0m\u001b[0;34m(\u001b[0m\u001b[0mself\u001b[0m\u001b[0;34m,\u001b[0m \u001b[0mevaluate_candidates\u001b[0m\u001b[0;34m)\u001b[0m\u001b[0;34m:\u001b[0m\u001b[0;34m\u001b[0m\u001b[0;34m\u001b[0m\u001b[0m\n\u001b[1;32m   1190\u001b[0m         \u001b[0;34m\"\"\"Search all candidates in param_grid\"\"\"\u001b[0m\u001b[0;34m\u001b[0m\u001b[0;34m\u001b[0m\u001b[0m\n\u001b[0;32m-> 1191\u001b[0;31m         \u001b[0mevaluate_candidates\u001b[0m\u001b[0;34m(\u001b[0m\u001b[0mParameterGrid\u001b[0m\u001b[0;34m(\u001b[0m\u001b[0mself\u001b[0m\u001b[0;34m.\u001b[0m\u001b[0mparam_grid\u001b[0m\u001b[0;34m)\u001b[0m\u001b[0;34m)\u001b[0m\u001b[0;34m\u001b[0m\u001b[0;34m\u001b[0m\u001b[0m\n\u001b[0m\u001b[1;32m   1192\u001b[0m \u001b[0;34m\u001b[0m\u001b[0m\n\u001b[1;32m   1193\u001b[0m \u001b[0;34m\u001b[0m\u001b[0m\n",
      "\u001b[0;32m/usr/local/lib/python3.6/dist-packages/sklearn/model_selection/_search.py\u001b[0m in \u001b[0;36mevaluate_candidates\u001b[0;34m(candidate_params)\u001b[0m\n\u001b[1;32m    709\u001b[0m                                \u001b[0;32mfor\u001b[0m \u001b[0mparameters\u001b[0m\u001b[0;34m,\u001b[0m \u001b[0;34m(\u001b[0m\u001b[0mtrain\u001b[0m\u001b[0;34m,\u001b[0m \u001b[0mtest\u001b[0m\u001b[0;34m)\u001b[0m\u001b[0;34m\u001b[0m\u001b[0;34m\u001b[0m\u001b[0m\n\u001b[1;32m    710\u001b[0m                                in product(candidate_params,\n\u001b[0;32m--> 711\u001b[0;31m                                           cv.split(X, y, groups)))\n\u001b[0m\u001b[1;32m    712\u001b[0m \u001b[0;34m\u001b[0m\u001b[0m\n\u001b[1;32m    713\u001b[0m                 \u001b[0mall_candidate_params\u001b[0m\u001b[0;34m.\u001b[0m\u001b[0mextend\u001b[0m\u001b[0;34m(\u001b[0m\u001b[0mcandidate_params\u001b[0m\u001b[0;34m)\u001b[0m\u001b[0;34m\u001b[0m\u001b[0;34m\u001b[0m\u001b[0m\n",
      "\u001b[0;32m/usr/local/lib/python3.6/dist-packages/sklearn/externals/joblib/parallel.py\u001b[0m in \u001b[0;36m__call__\u001b[0;34m(self, iterable)\u001b[0m\n\u001b[1;32m    928\u001b[0m \u001b[0;34m\u001b[0m\u001b[0m\n\u001b[1;32m    929\u001b[0m             \u001b[0;32mwith\u001b[0m \u001b[0mself\u001b[0m\u001b[0;34m.\u001b[0m\u001b[0m_backend\u001b[0m\u001b[0;34m.\u001b[0m\u001b[0mretrieval_context\u001b[0m\u001b[0;34m(\u001b[0m\u001b[0;34m)\u001b[0m\u001b[0;34m:\u001b[0m\u001b[0;34m\u001b[0m\u001b[0;34m\u001b[0m\u001b[0m\n\u001b[0;32m--> 930\u001b[0;31m                 \u001b[0mself\u001b[0m\u001b[0;34m.\u001b[0m\u001b[0mretrieve\u001b[0m\u001b[0;34m(\u001b[0m\u001b[0;34m)\u001b[0m\u001b[0;34m\u001b[0m\u001b[0;34m\u001b[0m\u001b[0m\n\u001b[0m\u001b[1;32m    931\u001b[0m             \u001b[0;31m# Make sure that we get a last message telling us we are done\u001b[0m\u001b[0;34m\u001b[0m\u001b[0;34m\u001b[0m\u001b[0;34m\u001b[0m\u001b[0m\n\u001b[1;32m    932\u001b[0m             \u001b[0melapsed_time\u001b[0m \u001b[0;34m=\u001b[0m \u001b[0mtime\u001b[0m\u001b[0;34m.\u001b[0m\u001b[0mtime\u001b[0m\u001b[0;34m(\u001b[0m\u001b[0;34m)\u001b[0m \u001b[0;34m-\u001b[0m \u001b[0mself\u001b[0m\u001b[0;34m.\u001b[0m\u001b[0m_start_time\u001b[0m\u001b[0;34m\u001b[0m\u001b[0;34m\u001b[0m\u001b[0m\n",
      "\u001b[0;32m/usr/local/lib/python3.6/dist-packages/sklearn/externals/joblib/parallel.py\u001b[0m in \u001b[0;36mretrieve\u001b[0;34m(self)\u001b[0m\n\u001b[1;32m    831\u001b[0m             \u001b[0;32mtry\u001b[0m\u001b[0;34m:\u001b[0m\u001b[0;34m\u001b[0m\u001b[0;34m\u001b[0m\u001b[0m\n\u001b[1;32m    832\u001b[0m                 \u001b[0;32mif\u001b[0m \u001b[0mgetattr\u001b[0m\u001b[0;34m(\u001b[0m\u001b[0mself\u001b[0m\u001b[0;34m.\u001b[0m\u001b[0m_backend\u001b[0m\u001b[0;34m,\u001b[0m \u001b[0;34m'supports_timeout'\u001b[0m\u001b[0;34m,\u001b[0m \u001b[0;32mFalse\u001b[0m\u001b[0;34m)\u001b[0m\u001b[0;34m:\u001b[0m\u001b[0;34m\u001b[0m\u001b[0;34m\u001b[0m\u001b[0m\n\u001b[0;32m--> 833\u001b[0;31m                     \u001b[0mself\u001b[0m\u001b[0;34m.\u001b[0m\u001b[0m_output\u001b[0m\u001b[0;34m.\u001b[0m\u001b[0mextend\u001b[0m\u001b[0;34m(\u001b[0m\u001b[0mjob\u001b[0m\u001b[0;34m.\u001b[0m\u001b[0mget\u001b[0m\u001b[0;34m(\u001b[0m\u001b[0mtimeout\u001b[0m\u001b[0;34m=\u001b[0m\u001b[0mself\u001b[0m\u001b[0;34m.\u001b[0m\u001b[0mtimeout\u001b[0m\u001b[0;34m)\u001b[0m\u001b[0;34m)\u001b[0m\u001b[0;34m\u001b[0m\u001b[0;34m\u001b[0m\u001b[0m\n\u001b[0m\u001b[1;32m    834\u001b[0m                 \u001b[0;32melse\u001b[0m\u001b[0;34m:\u001b[0m\u001b[0;34m\u001b[0m\u001b[0;34m\u001b[0m\u001b[0m\n\u001b[1;32m    835\u001b[0m                     \u001b[0mself\u001b[0m\u001b[0;34m.\u001b[0m\u001b[0m_output\u001b[0m\u001b[0;34m.\u001b[0m\u001b[0mextend\u001b[0m\u001b[0;34m(\u001b[0m\u001b[0mjob\u001b[0m\u001b[0;34m.\u001b[0m\u001b[0mget\u001b[0m\u001b[0;34m(\u001b[0m\u001b[0;34m)\u001b[0m\u001b[0;34m)\u001b[0m\u001b[0;34m\u001b[0m\u001b[0;34m\u001b[0m\u001b[0m\n",
      "\u001b[0;32m/usr/local/lib/python3.6/dist-packages/sklearn/externals/joblib/_parallel_backends.py\u001b[0m in \u001b[0;36mwrap_future_result\u001b[0;34m(future, timeout)\u001b[0m\n\u001b[1;32m    519\u001b[0m         AsyncResults.get from multiprocessing.\"\"\"\n\u001b[1;32m    520\u001b[0m         \u001b[0;32mtry\u001b[0m\u001b[0;34m:\u001b[0m\u001b[0;34m\u001b[0m\u001b[0;34m\u001b[0m\u001b[0m\n\u001b[0;32m--> 521\u001b[0;31m             \u001b[0;32mreturn\u001b[0m \u001b[0mfuture\u001b[0m\u001b[0;34m.\u001b[0m\u001b[0mresult\u001b[0m\u001b[0;34m(\u001b[0m\u001b[0mtimeout\u001b[0m\u001b[0;34m=\u001b[0m\u001b[0mtimeout\u001b[0m\u001b[0;34m)\u001b[0m\u001b[0;34m\u001b[0m\u001b[0;34m\u001b[0m\u001b[0m\n\u001b[0m\u001b[1;32m    522\u001b[0m         \u001b[0;32mexcept\u001b[0m \u001b[0mLokyTimeoutError\u001b[0m\u001b[0;34m:\u001b[0m\u001b[0;34m\u001b[0m\u001b[0;34m\u001b[0m\u001b[0m\n\u001b[1;32m    523\u001b[0m             \u001b[0;32mraise\u001b[0m \u001b[0mTimeoutError\u001b[0m\u001b[0;34m(\u001b[0m\u001b[0;34m)\u001b[0m\u001b[0;34m\u001b[0m\u001b[0;34m\u001b[0m\u001b[0m\n",
      "\u001b[0;32m/usr/lib/python3.6/concurrent/futures/_base.py\u001b[0m in \u001b[0;36mresult\u001b[0;34m(self, timeout)\u001b[0m\n\u001b[1;32m    425\u001b[0m                 \u001b[0;32mreturn\u001b[0m \u001b[0mself\u001b[0m\u001b[0;34m.\u001b[0m\u001b[0m__get_result\u001b[0m\u001b[0;34m(\u001b[0m\u001b[0;34m)\u001b[0m\u001b[0;34m\u001b[0m\u001b[0;34m\u001b[0m\u001b[0m\n\u001b[1;32m    426\u001b[0m \u001b[0;34m\u001b[0m\u001b[0m\n\u001b[0;32m--> 427\u001b[0;31m             \u001b[0mself\u001b[0m\u001b[0;34m.\u001b[0m\u001b[0m_condition\u001b[0m\u001b[0;34m.\u001b[0m\u001b[0mwait\u001b[0m\u001b[0;34m(\u001b[0m\u001b[0mtimeout\u001b[0m\u001b[0;34m)\u001b[0m\u001b[0;34m\u001b[0m\u001b[0;34m\u001b[0m\u001b[0m\n\u001b[0m\u001b[1;32m    428\u001b[0m \u001b[0;34m\u001b[0m\u001b[0m\n\u001b[1;32m    429\u001b[0m             \u001b[0;32mif\u001b[0m \u001b[0mself\u001b[0m\u001b[0;34m.\u001b[0m\u001b[0m_state\u001b[0m \u001b[0;32min\u001b[0m \u001b[0;34m[\u001b[0m\u001b[0mCANCELLED\u001b[0m\u001b[0;34m,\u001b[0m \u001b[0mCANCELLED_AND_NOTIFIED\u001b[0m\u001b[0;34m]\u001b[0m\u001b[0;34m:\u001b[0m\u001b[0;34m\u001b[0m\u001b[0;34m\u001b[0m\u001b[0m\n",
      "\u001b[0;32m/usr/lib/python3.6/threading.py\u001b[0m in \u001b[0;36mwait\u001b[0;34m(self, timeout)\u001b[0m\n\u001b[1;32m    293\u001b[0m         \u001b[0;32mtry\u001b[0m\u001b[0;34m:\u001b[0m    \u001b[0;31m# restore state no matter what (e.g., KeyboardInterrupt)\u001b[0m\u001b[0;34m\u001b[0m\u001b[0;34m\u001b[0m\u001b[0m\n\u001b[1;32m    294\u001b[0m             \u001b[0;32mif\u001b[0m \u001b[0mtimeout\u001b[0m \u001b[0;32mis\u001b[0m \u001b[0;32mNone\u001b[0m\u001b[0;34m:\u001b[0m\u001b[0;34m\u001b[0m\u001b[0;34m\u001b[0m\u001b[0m\n\u001b[0;32m--> 295\u001b[0;31m                 \u001b[0mwaiter\u001b[0m\u001b[0;34m.\u001b[0m\u001b[0macquire\u001b[0m\u001b[0;34m(\u001b[0m\u001b[0;34m)\u001b[0m\u001b[0;34m\u001b[0m\u001b[0;34m\u001b[0m\u001b[0m\n\u001b[0m\u001b[1;32m    296\u001b[0m                 \u001b[0mgotit\u001b[0m \u001b[0;34m=\u001b[0m \u001b[0;32mTrue\u001b[0m\u001b[0;34m\u001b[0m\u001b[0;34m\u001b[0m\u001b[0m\n\u001b[1;32m    297\u001b[0m             \u001b[0;32melse\u001b[0m\u001b[0;34m:\u001b[0m\u001b[0;34m\u001b[0m\u001b[0;34m\u001b[0m\u001b[0m\n",
      "\u001b[0;31mKeyboardInterrupt\u001b[0m: "
     ]
    }
   ],
   "source": [
    "from sklearn.model_selection import GridSearchCV\n",
    "\n",
    "MLP_para = {\"alpha\": [0.4, 0.5, 0.6, 0.7, 0.8, 0.9],\n",
    "           \"hidden_layer_sizes\": [(50,),(100,)]}\n",
    "\n",
    "gs = GridSearchCV(mlp, MLP_para, cv=5, n_jobs = -1, verbose = 20, scoring = 'accuracy')\n",
    "gs.fit(X, Y)"
   ]
  },
  {
   "cell_type": "code",
   "execution_count": 0,
   "metadata": {
    "colab": {},
    "colab_type": "code",
    "id": "ixkvIIHBK9xf"
   },
   "outputs": [],
   "source": [
    "print(\"best score: %0.3f\" % (gs.best_score_))\n",
    "print(\"MLP Classifier PARAMETERS\")\n",
    "print(gs.best_estimator_.get_params())"
   ]
  },
  {
   "cell_type": "code",
   "execution_count": 37,
   "metadata": {
    "colab": {
     "base_uri": "https://localhost:8080/",
     "height": 134
    },
    "colab_type": "code",
    "id": "h3AtraQ4lOAX",
    "outputId": "fdcda4a1-dcb8-4fec-d4eb-99461e499e45"
   },
   "outputs": [
    {
     "data": {
      "text/plain": [
       "MLPClassifier(activation='relu', alpha=0.9, batch_size='auto', beta_1=0.9,\n",
       "       beta_2=0.999, early_stopping=True, epsilon=1e-08,\n",
       "       hidden_layer_sizes=(50,), learning_rate='constant',\n",
       "       learning_rate_init=0.001, max_iter=200, momentum=0.9,\n",
       "       nesterovs_momentum=True, power_t=0.5, random_state=None,\n",
       "       shuffle=True, solver='adam', tol=0.0001, validation_fraction=0.1,\n",
       "       verbose=False, warm_start=False)"
      ]
     },
     "execution_count": 37,
     "metadata": {},
     "output_type": "execute_result"
    }
   ],
   "source": [
    "mlp_tunned = MLPClassifier(hidden_layer_sizes=(50,),alpha = 0.9, early_stopping = True)\n",
    "mlp_tunned.fit(X_train, Y_train)"
   ]
  },
  {
   "cell_type": "code",
   "execution_count": 38,
   "metadata": {
    "colab": {
     "base_uri": "https://localhost:8080/",
     "height": 50
    },
    "colab_type": "code",
    "id": "KYBjwhEilfYV",
    "outputId": "234fb8d2-54d6-4d7d-892b-b954769d44f6"
   },
   "outputs": [
    {
     "name": "stdout",
     "output_type": "stream",
     "text": [
      "Training Set score: 0.817\n",
      "Testing Set score: 0.755\n"
     ]
    }
   ],
   "source": [
    "from sklearn.model_selection import cross_val_score\n",
    "\n",
    "print(\"Training Set score: %0.3f\" % (mlp_tunned.score(X_train, Y_train)))\n",
    "print(\"Testing Set score: %0.3f\" % (mlp_tunned.score(X_test, Y_test)))"
   ]
  },
  {
   "cell_type": "code",
   "execution_count": 0,
   "metadata": {
    "colab": {},
    "colab_type": "code",
    "id": "qoMai06GtvEV"
   },
   "outputs": [],
   "source": [
    "cross_valid = cross_val_score(mlp_tunned, X, Y, cv=5, n_jobs = -1, verbose = 20)"
   ]
  }
 ],
 "metadata": {
  "colab": {
   "collapsed_sections": [],
   "name": "Unsupervised Learning Capstone - Sarcasm Detection.ipynb",
   "provenance": [],
   "version": "0.3.2"
  },
  "kernelspec": {
   "display_name": "Python 3",
   "language": "python",
   "name": "python3"
  },
  "language_info": {
   "codemirror_mode": {
    "name": "ipython",
    "version": 3
   },
   "file_extension": ".py",
   "mimetype": "text/x-python",
   "name": "python",
   "nbconvert_exporter": "python",
   "pygments_lexer": "ipython3",
   "version": "3.7.0"
  }
 },
 "nbformat": 4,
 "nbformat_minor": 1
}
